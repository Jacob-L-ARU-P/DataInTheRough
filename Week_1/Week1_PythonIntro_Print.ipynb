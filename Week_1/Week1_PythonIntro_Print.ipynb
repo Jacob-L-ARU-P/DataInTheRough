{
  "metadata": {
    "kernelspec": {
      "name": "python",
      "display_name": "Pyolite",
      "language": "python"
    },
    "language_info": {
      "codemirror_mode": {
        "name": "python",
        "version": 3
      },
      "file_extension": ".py",
      "mimetype": "text/x-python",
      "name": "python",
      "nbconvert_exporter": "python",
      "pygments_lexer": "ipython3",
      "version": "3.8"
    }
  },
  "nbformat_minor": 4,
  "nbformat": 4,
  "cells": [
    {
      "cell_type": "markdown",
      "source": "# Introduction to Python\n\n    \nPython language is very exhaustive language with numerous libraries supporting a wide variety of functionalities. We will cover a few of them related to data analysis and plotting in this module. This lecture presents some basic concepts of pythom to get you started. \n\n\nThis lecture covers the basic topics in python:\n\n## Basic Data types\n\nThe basic python datatypes are: \n- <strong> Numbers </strong>\n    e.g. 7, 6798, 3.14, 0.008\n- <strong> Strings </strong>\n    e.g. \"Python3\", 'Cambridge', \"Anglia Ruskin University\"\n\nNumbers can perform basic arithematic and can be again of two basic types:\n- <strong> Integers </strong>\ne.g. 3, 9688, 103847\n\n- <strong> Floats </strong> with a decimal point. \ne.g. 0.000679, 2038.47\n\n",
      "metadata": {}
    },
    {
      "cell_type": "code",
      "source": "1 ",
      "metadata": {
        "trusted": true
      },
      "execution_count": null,
      "outputs": []
    },
    {
      "cell_type": "code",
      "source": "- 9.4 ",
      "metadata": {
        "trusted": true
      },
      "execution_count": null,
      "outputs": []
    },
    {
      "cell_type": "code",
      "source": "'single quotes'",
      "metadata": {
        "trusted": true
      },
      "execution_count": null,
      "outputs": []
    },
    {
      "cell_type": "code",
      "source": "\"double quotes\"",
      "metadata": {
        "trusted": true
      },
      "execution_count": null,
      "outputs": []
    },
    {
      "cell_type": "code",
      "source": "\" wrap lot's of other quotes\"",
      "metadata": {
        "trusted": true
      },
      "execution_count": null,
      "outputs": []
    },
    {
      "cell_type": "markdown",
      "source": "## Operators\n\nThere are different types of operators. \n\n### Arithematic operations \n\nPython can be used to perform the arithematic operations on the number data type. \nFollowing are the sample code for arithematic operations. ",
      "metadata": {}
    },
    {
      "cell_type": "code",
      "source": "8 + 11",
      "metadata": {
        "trusted": true
      },
      "execution_count": null,
      "outputs": []
    },
    {
      "cell_type": "code",
      "source": "30 * 45",
      "metadata": {
        "trusted": true
      },
      "execution_count": null,
      "outputs": []
    },
    {
      "cell_type": "code",
      "source": "56 ** 3",
      "metadata": {
        "trusted": true
      },
      "execution_count": null,
      "outputs": []
    },
    {
      "cell_type": "code",
      "source": "83456437/324",
      "metadata": {
        "trusted": true
      },
      "execution_count": null,
      "outputs": []
    },
    {
      "cell_type": "code",
      "source": "83456437 % 324",
      "metadata": {
        "trusted": true
      },
      "execution_count": null,
      "outputs": []
    },
    {
      "cell_type": "code",
      "source": "3 + 4 * 3 + 45",
      "metadata": {
        "trusted": true
      },
      "execution_count": null,
      "outputs": []
    },
    {
      "cell_type": "code",
      "source": "(3 + 4) * (3 + 45)",
      "metadata": {
        "trusted": true
      },
      "execution_count": null,
      "outputs": []
    },
    {
      "cell_type": "markdown",
      "source": "### Concatenation/Repetition Operation\n\nThe string data types can be concatenated in python with a \"+\" operator. Repetition can be performed with \"*\" operation.",
      "metadata": {}
    },
    {
      "cell_type": "code",
      "source": "\"John \"+\"Doe\"",
      "metadata": {
        "trusted": true
      },
      "execution_count": null,
      "outputs": []
    },
    {
      "cell_type": "code",
      "source": "\"A\"*3",
      "metadata": {
        "trusted": true
      },
      "execution_count": null,
      "outputs": []
    },
    {
      "cell_type": "code",
      "source": "\"A+3\"",
      "metadata": {
        "trusted": true
      },
      "execution_count": null,
      "outputs": []
    },
    {
      "cell_type": "markdown",
      "source": "### Comparison Operators \n\n \nPython can work with the standard arithematic comparison operators as shown below. \nThe main operators are:\n- greater than \">\"\n- less than \"<\"\n- equals \"==\"\n- greater than or equal to \">=\"\n- less than or equal to \"<=\"\n\n\n",
      "metadata": {}
    },
    {
      "cell_type": "code",
      "source": "# Greater than operator\n34 > 54.5",
      "metadata": {
        "trusted": true
      },
      "execution_count": null,
      "outputs": []
    },
    {
      "cell_type": "code",
      "source": "# Less than operator\n45 < 3356",
      "metadata": {
        "trusted": true
      },
      "execution_count": null,
      "outputs": []
    },
    {
      "cell_type": "code",
      "source": "# Can you compare strings - compares only the first characters.\n\"hot\" > \"cold\"",
      "metadata": {
        "trusted": true
      },
      "execution_count": null,
      "outputs": []
    },
    {
      "cell_type": "code",
      "source": "# Is python string case sensitive ? \n\"bye\" != \"BYE\"",
      "metadata": {
        "trusted": true
      },
      "execution_count": null,
      "outputs": []
    },
    {
      "cell_type": "code",
      "source": "# Found strings that are equal.\n\"bye\" == \"bye\"",
      "metadata": {
        "trusted": true
      },
      "execution_count": null,
      "outputs": []
    },
    {
      "cell_type": "code",
      "source": "# Greater than or equal to.\n11 >= 11",
      "metadata": {
        "trusted": true
      },
      "execution_count": null,
      "outputs": []
    },
    {
      "cell_type": "code",
      "source": "# Less than or equal to.. \n111 <= 12",
      "metadata": {
        "trusted": true
      },
      "execution_count": null,
      "outputs": []
    },
    {
      "cell_type": "markdown",
      "source": "### Logic Operators\n\nUsed to combine two or more conditions. The common logic operators are: \n- \"and\" \n- \"or\"\n- \"not\"",
      "metadata": {}
    },
    {
      "cell_type": "code",
      "source": "# Example and operator\n(112 > 2) and (212 < 3)",
      "metadata": {
        "trusted": true
      },
      "execution_count": null,
      "outputs": []
    },
    {
      "cell_type": "code",
      "source": "# Example or operator\n(211 > 2) or (2 < 123)",
      "metadata": {
        "trusted": true
      },
      "execution_count": null,
      "outputs": []
    },
    {
      "cell_type": "code",
      "source": "# multiple conditions combined. \n(112 >= 223.56) or (211 <= 3) or (4 == 4)",
      "metadata": {
        "trusted": true
      },
      "execution_count": null,
      "outputs": []
    },
    {
      "cell_type": "code",
      "source": "# multiple conditions combined. \n(112 >= 223.56) and not(4 == 4)",
      "metadata": {
        "trusted": true
      },
      "execution_count": null,
      "outputs": []
    },
    {
      "cell_type": "code",
      "source": "# More not examples\nprint(not False) # Prints out True\nprint((not False) == (False)) # Prints out False",
      "metadata": {
        "trusted": true
      },
      "execution_count": null,
      "outputs": []
    },
    {
      "cell_type": "markdown",
      "source": "## Variables\n\nVariables are used to store values of the data. There is no data type specification needed for the python variable. ",
      "metadata": {}
    },
    {
      "cell_type": "code",
      "source": "#Variables cannot start with numbers or special characters and cannot contain spaces in between.\nvar_to_use = 2 ",
      "metadata": {
        "trusted": true
      },
      "execution_count": null,
      "outputs": []
    },
    {
      "cell_type": "code",
      "source": "var1 = 23\nvar2 = 3.6\n\nvar1 * var2",
      "metadata": {
        "trusted": true
      },
      "execution_count": null,
      "outputs": []
    },
    {
      "cell_type": "code",
      "source": "var1/var2",
      "metadata": {
        "trusted": true
      },
      "execution_count": null,
      "outputs": []
    },
    {
      "cell_type": "code",
      "source": "city2 = \"Cambridge\"\nmy_school = \"Anglia Ruskin University\"\ncity2\n",
      "metadata": {
        "trusted": true
      },
      "execution_count": null,
      "outputs": []
    },
    {
      "cell_type": "markdown",
      "source": "## Print statement\n\nPython code needs to use the print statement to print anything out of a python script. Note that the \"out[]\" keyword is not shown on the printed statements.\n\nHere are some basic argument specifiers you should know:\n\n%s - String (or any object with a string representation, like numbers)\n\n%d - Integers\n\n%f - Floating point numbers\n\n%.<number of digits>f - Floating point numbers with a fixed amount of digits to the right of the dot.\n\n%x/%X - Integers in hex representation (lowercase/uppercase)",
      "metadata": {}
    },
    {
      "cell_type": "code",
      "source": "print(3/5.6)",
      "metadata": {
        "trusted": true
      },
      "execution_count": null,
      "outputs": []
    },
    {
      "cell_type": "code",
      "source": "print(\"Hello All!\")",
      "metadata": {
        "trusted": true
      },
      "execution_count": null,
      "outputs": []
    },
    {
      "cell_type": "code",
      "source": "# Concatenate strings in print()\nfirst_name=\"James\"\nlast_name=\"Larner\"\nprint(first_name + last_name)",
      "metadata": {
        "trusted": true
      },
      "execution_count": null,
      "outputs": []
    },
    {
      "cell_type": "code",
      "source": "# Concatenate datatypes including variables in print()\nname = \"James Larner\"\nprint(\"Hello \"+name)",
      "metadata": {
        "trusted": true
      },
      "execution_count": null,
      "outputs": []
    },
    {
      "cell_type": "code",
      "source": "# Print variables using the format() method\nname = \"James Larner\"\nprint(\"Hello {}\".format (name))",
      "metadata": {
        "trusted": true
      },
      "execution_count": null,
      "outputs": []
    },
    {
      "cell_type": "code",
      "source": "# Print mutliple datatype variable with format change to str() using simple concatenation\nname = 'James'\nage = 45\nprint(\"I am \" + name + \" and I am \" + str(age) + \" years old\")",
      "metadata": {
        "trusted": true
      },
      "execution_count": null,
      "outputs": []
    },
    {
      "cell_type": "code",
      "source": "# Print mutliple variables using the \"%\" method \nname = 'James'\nage = 45\nprint(\"I am %s and I am %d years old\" % (name, age))",
      "metadata": {
        "trusted": true
      },
      "execution_count": null,
      "outputs": []
    },
    {
      "cell_type": "code",
      "source": "# Print mutliple datatype variables using the format() method\nname = 'James'\nage = 45\nprint(\"I am {} and I am {} years old\".format(name,age))",
      "metadata": {
        "trusted": true
      },
      "execution_count": null,
      "outputs": []
    },
    {
      "cell_type": "code",
      "source": "# Print mutliple variables using the format() method with out worrying about the order of occurence of the variable.\nname = 'James'\nage = 45\nprint(\"I am {n} and I am {a} years old\".format(a=age, n=name))",
      "metadata": {
        "trusted": true
      },
      "execution_count": null,
      "outputs": []
    },
    {
      "cell_type": "code",
      "source": "# Print mutliple variables using the f-string method with out worrying about the order of occurence of the variable.\nname = 'James'\nage = 45\nprint(f\"I am {name} and I am {age} years old\")",
      "metadata": {
        "trusted": true
      },
      "execution_count": null,
      "outputs": []
    },
    {
      "cell_type": "code",
      "source": "# Different forms of print\npi_value=3.14\nprint(\"The value of pi is %s\" % (pi_value))\nprint(\"The value of pi is {}\" .format(pi_value))\nprint(f\"The value of pi is {pi_value}\")",
      "metadata": {
        "trusted": true
      },
      "execution_count": null,
      "outputs": []
    },
    {
      "cell_type": "markdown",
      "source": "<html> <h3 style=\"font-style:italic; color:#FF0000;\"> Try Out: Use different forms of print statement and see how you can print any data type like integers, floats, strings.</h3> </html>",
      "metadata": {}
    },
    {
      "cell_type": "code",
      "source": "",
      "metadata": {},
      "execution_count": null,
      "outputs": []
    },
    {
      "cell_type": "markdown",
      "source": "<html> <h3 style=\"font-style:italic; color:#FF0000;\"> Try Out: Print pi_value as an integer, floating point and string. Notice the difference.</h3> </html>",
      "metadata": {}
    },
    {
      "cell_type": "code",
      "source": "",
      "metadata": {},
      "execution_count": null,
      "outputs": []
    },
    {
      "cell_type": "markdown",
      "source": "<html> <h3 style=\"font-style:italic; color:#FF0000;\"> Try Out: Write a format string which prints out the data using the following syntax: Hello John Doe. Your current balance is $53.44. Try out all the print options you have learned.</h3> </html>",
      "metadata": {}
    },
    {
      "cell_type": "code",
      "source": "",
      "metadata": {},
      "execution_count": null,
      "outputs": []
    },
    {
      "cell_type": "code",
      "source": "",
      "metadata": {},
      "execution_count": null,
      "outputs": []
    }
  ]
}